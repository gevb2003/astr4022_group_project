{
 "cells": [
  {
   "cell_type": "markdown",
   "id": "65913592",
   "metadata": {},
   "source": [
    "## Test opacity_reader.py\n",
    "\n",
    "Import the module and test that there are no errors when calling tables."
   ]
  },
  {
   "cell_type": "code",
   "execution_count": 1,
   "id": "39e2650e",
   "metadata": {},
   "outputs": [],
   "source": [
    "from opacity_reader import *"
   ]
  },
  {
   "cell_type": "code",
   "execution_count": 2,
   "id": "3e1c917b",
   "metadata": {},
   "outputs": [],
   "source": [
    "# Test reading the opacity table\n",
    "log_T_Asplund, log_R_Asplund, table_Asplund = read_opacity_table(\"rosseland_opacities/Asplund09/A09photo.7.02.tron\")\n",
    "log_T_Caffau, log_R_Caffau, table_Caffau = read_opacity_table(\"rosseland_opacities/Caffau11/caffau11.7.02.tron\")"
   ]
  },
  {
   "cell_type": "code",
   "execution_count": 3,
   "id": "b0425918",
   "metadata": {},
   "outputs": [
    {
     "name": "stdout",
     "output_type": "stream",
     "text": [
      "0.7\n",
      "0.28\n",
      "0.02\n",
      "{'h': 0.7, 'he': 0.28, 'li': 0.0, 'be': 0.0, 'b': 0.0, 'c': 0.00520816, 'n': 0.00119312, 'o': 0.0094773, 'f': 0.0, 'ne': 0.0019350200000000002, 'na': 3.362e-05, 'mg': 0.00059798, 'al': 4.974e-05, 'si': 0.00058436, 'p': 4.7399999999999995e-06, 's': 0.00023264, 'cl': 2.9999999999999997e-06, 'ar': 5.4539999999999996e-05, 'k': 2.12e-06, 'ca': 3.52e-05, 'sc': 0.0, 'ti': 1.44e-06, 'v': 0.0, 'cr': 7.699999999999999e-06, 'mn': 5.320000000000001e-06, 'fe': 0.00054536, 'co': 0.0, 'ni': 2.862e-05}\n",
      "0.7\n",
      "0.28\n",
      "0.02\n",
      "{'h': 0.7, 'he': 0.28, 'li': 0.0, 'be': 0.0, 'b': 0.0, 'c': 0.0051699, 'n': 0.0012986200000000001, 'o': 0.00940766, 'f': 7e-07, 'ne': 0.00163486, 'na': 3.338e-05, 'mg': 0.00076468, 'al': 5.414000000000001e-05, 'si': 0.0006215600000000001, 'p': 4.94e-06, 's': 0.00025322, 'cl': 6.08e-06, 'ar': 4.8240000000000006e-05, 'k': 2.06e-06, 'ca': 4.202e-05, 'sc': 2e-08, 'ti': 1.72e-06, 'v': 1.6e-07, 'cr': 8.38e-06, 'mn': 5.16e-06, 'fe': 0.00060742, 'co': 1.88e-06, 'ni': 3.188e-05, 'cu': 3.2e-07, 'zn': 7.6e-07}\n"
     ]
    }
   ],
   "source": [
    "# Test reading the abundance table\n",
    "abund_Asplund = read_abund_table(\"rosseland_opacities/Asplund09/abun.Asplund09.txt\", \"rosseland_opacities/Asplund09/A09photo.7.02.tron\")\n",
    "abund_Caffau = read_abund_table(\"rosseland_opacities/Caffau11/abun.Caffau11.txt\", \"rosseland_opacities/Caffau11/caffau11.7.02.tron\")\n",
    "\n",
    "print(abund_Caffau.X_tot)\n",
    "print(abund_Caffau.Y_tot)\n",
    "print(abund_Caffau.Z_tot)\n",
    "print(abund_Caffau.abund)\n",
    "print(abund_Asplund.X_tot)\n",
    "print(abund_Asplund.Y_tot)\n",
    "print(abund_Asplund.Z_tot)\n",
    "print(abund_Asplund.abund)"
   ]
  },
  {
   "cell_type": "code",
   "execution_count": null,
   "id": "0c6faf27",
   "metadata": {},
   "outputs": [
    {
     "name": "stdout",
     "output_type": "stream",
     "text": [
      "-5.934\n",
      "-5.775\n"
     ]
    }
   ],
   "source": [
    "# Test returning exact opacities\n",
    "T = 5777  # K\n",
    "R = 1.0\n",
    "print(nearest_opac_R(T, R, log_T_Asplund, log_R_Asplund, table_Asplund))\n",
    "print(nearest_opac_R(T, R, log_T_Caffau, log_R_Caffau, table_Caffau))"
   ]
  },
  {
   "cell_type": "code",
   "execution_count": 5,
   "id": "2ba2e7a2",
   "metadata": {},
   "outputs": [
    {
     "name": "stdout",
     "output_type": "stream",
     "text": [
      "-0.4032532129863977\n",
      "-0.366168207353791\n"
     ]
    }
   ],
   "source": [
    "print(interp_opac_R(T, R, log_T_Caffau, log_R_Caffau, table_Caffau))\n",
    "print(interp_opac_R(T, R, log_T_Asplund, log_R_Asplund, table_Asplund))"
   ]
  }
 ],
 "metadata": {
  "kernelspec": {
   "display_name": "base",
   "language": "python",
   "name": "python3"
  },
  "language_info": {
   "codemirror_mode": {
    "name": "ipython",
    "version": 3
   },
   "file_extension": ".py",
   "mimetype": "text/x-python",
   "name": "python",
   "nbconvert_exporter": "python",
   "pygments_lexer": "ipython3",
   "version": "3.11.13"
  }
 },
 "nbformat": 4,
 "nbformat_minor": 5
}
